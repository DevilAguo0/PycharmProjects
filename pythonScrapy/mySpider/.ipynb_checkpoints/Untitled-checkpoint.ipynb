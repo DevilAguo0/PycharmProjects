{
 "cells": [
  {
   "cell_type": "code",
   "execution_count": null,
   "id": "645b33e4-f8a1-49e1-8e67-44de90766424",
   "metadata": {},
   "outputs": [],
   "source": [
    "print('hello world!')"
   ]
  }
 ],
 "metadata": {
  "kernelspec": {
   "display_name": "",
   "name": ""
  },
  "language_info": {
   "name": ""
  }
 },
 "nbformat": 4,
 "nbformat_minor": 5
}
